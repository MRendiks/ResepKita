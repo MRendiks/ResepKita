{
 "cells": [
  {
   "cell_type": "code",
   "execution_count": 1,
   "id": "4e91e7a9",
   "metadata": {},
   "outputs": [],
   "source": [
    "import os, shutil, glob, time, pathlib, zipfile, shutil\n",
    "from pathlib import Path\n",
    "import os.path"
   ]
  },
  {
   "cell_type": "code",
   "execution_count": 2,
   "id": "fdec68c6",
   "metadata": {},
   "outputs": [],
   "source": [
    "import matplotlib.pyplot as plt\n",
    "import matplotlib.image as mpimg\n",
    "import plotly.express as px\n",
    "from PIL import Image"
   ]
  },
  {
   "cell_type": "code",
   "execution_count": 3,
   "id": "91f3d769",
   "metadata": {},
   "outputs": [],
   "source": [
    "local_zip = 'dataset_ta.zip'\n",
    "zip_ref = zipfile.ZipFile(local_zip, 'r')\n",
    "zip_ref.extractall('dataset_final')\n",
    "zip_ref.close()"
   ]
  },
  {
   "cell_type": "code",
   "execution_count": 4,
   "id": "ce6fc5a3",
   "metadata": {},
   "outputs": [],
   "source": [
    "destination = \"dataset_final/dataset_ta\""
   ]
  },
  {
   "cell_type": "code",
   "execution_count": 5,
   "id": "0419e98b",
   "metadata": {},
   "outputs": [
    {
     "name": "stdout",
     "output_type": "stream",
     "text": [
      "Kategori bawang merah berhasil di resize\n",
      "Kategori bawang putih berhasil di resize\n",
      "Kategori bombai berhasil di resize\n",
      "Kategori cabai hijau berhasil di resize\n",
      "Kategori cabai merah berhasil di resize\n",
      "Kategori jagung berhasil di resize\n",
      "Kategori jahe berhasil di resize\n",
      "Kategori kembang kol berhasil di resize\n",
      "Kategori kentang berhasil di resize\n",
      "Kategori kubis berhasil di resize\n",
      "Kategori terong berhasil di resize\n",
      "Kategori timun berhasil di resize\n",
      "Kategori tomat berhasil di resize\n",
      "Kategori wortel berhasil di resize\n"
     ]
    }
   ],
   "source": [
    "# Merubah ukuran gambar menjadi 128x128\n",
    "path = destination\n",
    "for cat in os.listdir(path):\n",
    "    cur_cat = os.path.join(path, cat)\n",
    "    for item in os.listdir(cur_cat):\n",
    "        cur_item = os.path.join(cur_cat, item)\n",
    "        if os.path.isfile(cur_item):\n",
    "            im = Image.open(cur_item)\n",
    "            rgb_im = im.convert('RGB')\n",
    "            imResize = rgb_im.resize((224, 224), Image.ANTIALIAS)\n",
    "            imResize.save(cur_item, 'JPEG', quality=90)\n",
    "    print(f'Kategori {cat} berhasil di resize')"
   ]
  },
  {
   "cell_type": "code",
   "execution_count": null,
   "id": "67ed62a0",
   "metadata": {},
   "outputs": [],
   "source": []
  }
 ],
 "metadata": {
  "kernelspec": {
   "display_name": "Python 3 (ipykernel)",
   "language": "python",
   "name": "python3"
  },
  "language_info": {
   "codemirror_mode": {
    "name": "ipython",
    "version": 3
   },
   "file_extension": ".py",
   "mimetype": "text/x-python",
   "name": "python",
   "nbconvert_exporter": "python",
   "pygments_lexer": "ipython3",
   "version": "3.9.12"
  }
 },
 "nbformat": 4,
 "nbformat_minor": 5
}
